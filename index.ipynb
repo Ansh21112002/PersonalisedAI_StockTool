{
 "cells": [
  {
   "cell_type": "code",
   "execution_count": 3,
   "metadata": {},
   "outputs": [],
   "source": [
    "import datetime\n",
    "from KITE import *\n",
    "import pandas as pd\n",
    "import os\n",
    "import getpass\n",
    "\n",
    "\n",
    "instrument_token = 256265\n",
    "from_datetime = datetime.datetime.now() - datetime.timedelta(days=25)     # From last 25 days\n",
    "to_datetime = datetime.datetime.now()\n",
    "interval = \"day\""
   ]
  },
  {
   "cell_type": "code",
   "execution_count": 4,
   "metadata": {},
   "outputs": [],
   "source": [
    "user_id = \"ISE420\"       # Login Id\n",
    "password = getpass.getpass(\"Enter password: \") \n",
    "twofa = input('Enter twofa : ')\n",
    "# KitePass = os.getenv(\"KITE_PASSWORD\")\n",
    "# kiteUserId = os.getenv(\"KITE_USER_ID\")\n",
    "\n",
    "\n",
    "# print(kiteUserId)\n",
    "\n",
    "encToken = get_enctoken(user_id,password, twofa)\n",
    "\n",
    "kiteObj = KITE(enctoken=encToken)\n"
   ]
  },
  {
   "cell_type": "code",
   "execution_count": 14,
   "metadata": {},
   "outputs": [],
   "source": [
    "def data(instrument_token):\n",
    "  start_date = datetime.datetime.now()- datetime.timedelta(days=365)\n",
    "  end_date = datetime.datetime.now()\n",
    "  df = pd.DataFrame(kiteObj.historical_data(instrument_token, start_date, end_date, interval=\"day\"))\n",
    "  df = df.drop('volume',axis=1)\n",
    "  return df\n",
    "  "
   ]
  },
  {
   "cell_type": "code",
   "execution_count": 45,
   "metadata": {},
   "outputs": [],
   "source": [
    "df=data(256265)"
   ]
  },
  {
   "cell_type": "code",
   "execution_count": 20,
   "metadata": {},
   "outputs": [],
   "source": [
    "import ta\n",
    "import datetime\n",
    "\n",
    "def bb(df):\n",
    "    indicator_bb = ta.volatility.BollingerBands(\n",
    "        df['close'], window=10, window_dev=2)\n",
    "    width = indicator_bb.bollinger_wband()\n",
    "    current_width = width[len(width)-1]\n",
    "    prv_width = width[len(width)-2]\n",
    "    pr_chng = ((current_width-prv_width)/prv_width)*100\n",
    "    if pr_chng <= 0:\n",
    "        return 0\n",
    "    elif pr_chng <= 25:\n",
    "        return 1\n",
    "    elif pr_chng <= 50:\n",
    "        return 2\n",
    "    elif pr_chng <= 75:\n",
    "        return 3\n",
    "    else:\n",
    "        return 4\n"
   ]
  },
  {
   "cell_type": "code",
   "execution_count": 23,
   "metadata": {},
   "outputs": [],
   "source": [
    "def adx(df):\n",
    "    df['adx'] = ta.trend.ADXIndicator(\n",
    "        df['high'], df['low'], df['close'], window=14).adx()\n",
    "    # df['adx'] = adx\n",
    "    df['+DI'] = ta.trend.ADXIndicator(\n",
    "        df['high'], df['low'], df['close'], window=14).adx_pos()\n",
    "    df['-DI'] = ta.trend.ADXIndicator(\n",
    "        df['high'], df['low'], df['close'], window=14).adx_neg()\n",
    "    if df['adx'][len(df)-1] >= 20 and df['+DI'][len(df)-1] > df['-DI'][len(df)-1]:\n",
    "        return 1\n",
    "    return 0"
   ]
  },
  {
   "cell_type": "code",
   "execution_count": 28,
   "metadata": {},
   "outputs": [
    {
     "name": "stdout",
     "output_type": "stream",
     "text": [
      "                         date      open      high       low     close\n",
      "0   2023-03-06 00:00:00+05:30  17680.35  17799.95  17671.95  17711.45\n",
      "1   2023-03-08 00:00:00+05:30  17665.75  17766.50  17602.25  17754.40\n",
      "2   2023-03-09 00:00:00+05:30  17772.05  17772.35  17573.60  17589.60\n",
      "3   2023-03-10 00:00:00+05:30  17443.80  17451.50  17324.35  17412.90\n",
      "4   2023-03-13 00:00:00+05:30  17421.90  17529.90  17113.45  17154.30\n",
      "..                        ...       ...       ...       ...       ...\n",
      "242 2024-02-27 00:00:00+05:30  22090.20  22218.25  22085.65  22198.35\n",
      "243 2024-02-28 00:00:00+05:30  22214.10  22229.15  21915.85  21951.15\n",
      "244 2024-02-29 00:00:00+05:30  21935.20  22060.55  21860.65  21982.80\n",
      "245 2024-03-01 00:00:00+05:30  22048.30  22353.30  22047.75  22338.75\n",
      "246 2024-03-02 00:00:00+05:30  22406.95  22463.65  22366.95  22378.40\n",
      "\n",
      "[247 rows x 5 columns]\n"
     ]
    }
   ],
   "source": [
    "print(df)"
   ]
  },
  {
   "cell_type": "code",
   "execution_count": 44,
   "metadata": {},
   "outputs": [],
   "source": [
    "def WMA(df):\n",
    "  wma_13 = ta.trend.WMAIndicator(close=df['close'],window=13,fillna=True).wma()\n",
    "  wma_55 = ta.trend.WMAIndicator(close=df['close'],window=13,fillna=True).wma()\n",
    "  if(wma_13.iloc[-1]>wma_55.iloc[-1]):\n",
    "    return 1\n",
    "  else:\n",
    "    return 0"
   ]
  },
  {
   "cell_type": "code",
   "execution_count": 46,
   "metadata": {},
   "outputs": [],
   "source": [
    "def shortTerm(instrument_token):\n",
    "  stock_data=data(instrument_token)\n",
    "  return bb(stock_data)+WMA(stock_data)+adx(stock_data)"
   ]
  },
  {
   "cell_type": "code",
   "execution_count": 47,
   "metadata": {},
   "outputs": [
    {
     "name": "stdout",
     "output_type": "stream",
     "text": [
      " * Serving Flask app '__main__'\n",
      " * Debug mode: on\n"
     ]
    },
    {
     "name": "stderr",
     "output_type": "stream",
     "text": [
      "WARNING: This is a development server. Do not use it in a production deployment. Use a production WSGI server instead.\n",
      " * Running on http://127.0.0.1:5000\n",
      "Press CTRL+C to quit\n",
      " * Restarting with stat\n"
     ]
    },
    {
     "ename": "SystemExit",
     "evalue": "1",
     "output_type": "error",
     "traceback": [
      "An exception has occurred, use %tb to see the full traceback.\n",
      "\u001b[1;31mSystemExit\u001b[0m\u001b[1;31m:\u001b[0m 1\n"
     ]
    },
    {
     "name": "stderr",
     "output_type": "stream",
     "text": [
      "C:\\Users\\Admin\\AppData\\Local\\Packages\\PythonSoftwareFoundation.Python.3.11_qbz5n2kfra8p0\\LocalCache\\local-packages\\Python311\\site-packages\\IPython\\core\\interactiveshell.py:3585: UserWarning: To exit: use 'exit', 'quit', or Ctrl-D.\n",
      "  warn(\"To exit: use 'exit', 'quit', or Ctrl-D.\", stacklevel=1)\n"
     ]
    }
   ],
   "source": [
    "from flask import Flask\n",
    "\n",
    "app = Flask(__name__)\n",
    "\n",
    "@app.route('/')\n",
    "def index():\n",
    "    return 'Hello, World! This is a Stock Recommender.'\n",
    "\n",
    "@app.route('/shortterm')\n",
    "def about():\n",
    "    return shortTerm(256265)\n",
    "\n",
    "if __name__ == '__main__':\n",
    "    app.run(debug=True)\n"
   ]
  },
  {
   "cell_type": "code",
   "execution_count": null,
   "metadata": {},
   "outputs": [],
   "source": []
  }
 ],
 "metadata": {
  "kernelspec": {
   "display_name": "Python 3",
   "language": "python",
   "name": "python3"
  },
  "language_info": {
   "codemirror_mode": {
    "name": "ipython",
    "version": 3
   },
   "file_extension": ".py",
   "mimetype": "text/x-python",
   "name": "python",
   "nbconvert_exporter": "python",
   "pygments_lexer": "ipython3",
   "version": "3.11.8"
  }
 },
 "nbformat": 4,
 "nbformat_minor": 2
}
